{
 "cells": [
  {
   "cell_type": "markdown",
   "id": "dc0318d6",
   "metadata": {},
   "source": [
    "## Part 1: Explore the Data\n",
    "\n",
    "Import the data and use Pandas to learn more about the dataset."
   ]
  },
  {
   "cell_type": "code",
   "execution_count": 21,
   "id": "e076f57f",
   "metadata": {},
   "outputs": [
    {
     "data": {
      "text/html": [
       "<div>\n",
       "<style scoped>\n",
       "    .dataframe tbody tr th:only-of-type {\n",
       "        vertical-align: middle;\n",
       "    }\n",
       "\n",
       "    .dataframe tbody tr th {\n",
       "        vertical-align: top;\n",
       "    }\n",
       "\n",
       "    .dataframe thead th {\n",
       "        text-align: right;\n",
       "    }\n",
       "</style>\n",
       "<table border=\"1\" class=\"dataframe\">\n",
       "  <thead>\n",
       "    <tr style=\"text-align: right;\">\n",
       "      <th></th>\n",
       "      <th>first</th>\n",
       "      <th>last</th>\n",
       "      <th>job</th>\n",
       "      <th>phone</th>\n",
       "      <th>email</th>\n",
       "      <th>client_id</th>\n",
       "      <th>order_id</th>\n",
       "      <th>order_date</th>\n",
       "      <th>order_week</th>\n",
       "      <th>order_year</th>\n",
       "      <th>item_id</th>\n",
       "      <th>category</th>\n",
       "      <th>subcategory</th>\n",
       "      <th>unit_price</th>\n",
       "      <th>unit_cost</th>\n",
       "      <th>unit_weight</th>\n",
       "      <th>qty</th>\n",
       "      <th>line_number</th>\n",
       "    </tr>\n",
       "  </thead>\n",
       "  <tbody>\n",
       "    <tr>\n",
       "      <th>0</th>\n",
       "      <td>Donald</td>\n",
       "      <td>Harding</td>\n",
       "      <td>Immunologist</td>\n",
       "      <td>793-904-7725x39308</td>\n",
       "      <td>harding.donald.7185@sullivan.com</td>\n",
       "      <td>58515</td>\n",
       "      <td>8953482</td>\n",
       "      <td>2023-04-28</td>\n",
       "      <td>17</td>\n",
       "      <td>2023</td>\n",
       "      <td>EUD29711-63-6U</td>\n",
       "      <td>decor</td>\n",
       "      <td>wall art</td>\n",
       "      <td>1096.80</td>\n",
       "      <td>762.71</td>\n",
       "      <td>7.50</td>\n",
       "      <td>105</td>\n",
       "      <td>1</td>\n",
       "    </tr>\n",
       "    <tr>\n",
       "      <th>1</th>\n",
       "      <td>Tiffany</td>\n",
       "      <td>Myers</td>\n",
       "      <td>Music therapist</td>\n",
       "      <td>201.442.4543x942</td>\n",
       "      <td>myers.t.6537@ferguson-johnson.net</td>\n",
       "      <td>37609</td>\n",
       "      <td>8069089</td>\n",
       "      <td>2023-05-19</td>\n",
       "      <td>20</td>\n",
       "      <td>2023</td>\n",
       "      <td>XDA18116-89-4A</td>\n",
       "      <td>consumables</td>\n",
       "      <td>pens</td>\n",
       "      <td>24.95</td>\n",
       "      <td>15.09</td>\n",
       "      <td>1.49</td>\n",
       "      <td>21</td>\n",
       "      <td>0</td>\n",
       "    </tr>\n",
       "    <tr>\n",
       "      <th>2</th>\n",
       "      <td>Shannon</td>\n",
       "      <td>Watson</td>\n",
       "      <td>Immunologist</td>\n",
       "      <td>687.737.9424x8503</td>\n",
       "      <td>swatson8146@payne.net</td>\n",
       "      <td>57113</td>\n",
       "      <td>1902144</td>\n",
       "      <td>2023-01-29</td>\n",
       "      <td>4</td>\n",
       "      <td>2023</td>\n",
       "      <td>ABE59463-05-7E</td>\n",
       "      <td>software</td>\n",
       "      <td>project management</td>\n",
       "      <td>13.52</td>\n",
       "      <td>7.86</td>\n",
       "      <td>1.68</td>\n",
       "      <td>39</td>\n",
       "      <td>6</td>\n",
       "    </tr>\n",
       "    <tr>\n",
       "      <th>3</th>\n",
       "      <td>Nathan</td>\n",
       "      <td>Baker</td>\n",
       "      <td>Accounting technician</td>\n",
       "      <td>827-788-8123x012</td>\n",
       "      <td>bakernathan@benson.com</td>\n",
       "      <td>46554</td>\n",
       "      <td>9031802</td>\n",
       "      <td>2023-04-25</td>\n",
       "      <td>17</td>\n",
       "      <td>2023</td>\n",
       "      <td>ZMM00836-65-0C</td>\n",
       "      <td>consumables</td>\n",
       "      <td>pens</td>\n",
       "      <td>36.42</td>\n",
       "      <td>24.85</td>\n",
       "      <td>1.23</td>\n",
       "      <td>29</td>\n",
       "      <td>3</td>\n",
       "    </tr>\n",
       "    <tr>\n",
       "      <th>4</th>\n",
       "      <td>Christina</td>\n",
       "      <td>Schwartz</td>\n",
       "      <td>Chiropractor</td>\n",
       "      <td>265-829-3643</td>\n",
       "      <td>christinaschwartz9252@mcconnell.com</td>\n",
       "      <td>92089</td>\n",
       "      <td>1322274</td>\n",
       "      <td>2023-05-28</td>\n",
       "      <td>21</td>\n",
       "      <td>2023</td>\n",
       "      <td>BZX55559-12-3X</td>\n",
       "      <td>consumables</td>\n",
       "      <td>misc</td>\n",
       "      <td>195.10</td>\n",
       "      <td>108.17</td>\n",
       "      <td>46.43</td>\n",
       "      <td>20</td>\n",
       "      <td>1</td>\n",
       "    </tr>\n",
       "  </tbody>\n",
       "</table>\n",
       "</div>"
      ],
      "text/plain": [
       "       first      last                    job               phone  \\\n",
       "0     Donald   Harding           Immunologist  793-904-7725x39308   \n",
       "1    Tiffany     Myers        Music therapist    201.442.4543x942   \n",
       "2    Shannon    Watson           Immunologist   687.737.9424x8503   \n",
       "3     Nathan     Baker  Accounting technician    827-788-8123x012   \n",
       "4  Christina  Schwartz           Chiropractor        265-829-3643   \n",
       "\n",
       "                                 email  client_id  order_id  order_date  \\\n",
       "0     harding.donald.7185@sullivan.com      58515   8953482  2023-04-28   \n",
       "1    myers.t.6537@ferguson-johnson.net      37609   8069089  2023-05-19   \n",
       "2                swatson8146@payne.net      57113   1902144  2023-01-29   \n",
       "3               bakernathan@benson.com      46554   9031802  2023-04-25   \n",
       "4  christinaschwartz9252@mcconnell.com      92089   1322274  2023-05-28   \n",
       "\n",
       "   order_week  order_year         item_id     category         subcategory  \\\n",
       "0          17        2023  EUD29711-63-6U        decor            wall art   \n",
       "1          20        2023  XDA18116-89-4A  consumables                pens   \n",
       "2           4        2023  ABE59463-05-7E     software  project management   \n",
       "3          17        2023  ZMM00836-65-0C  consumables                pens   \n",
       "4          21        2023  BZX55559-12-3X  consumables                misc   \n",
       "\n",
       "   unit_price  unit_cost  unit_weight  qty  line_number  \n",
       "0     1096.80     762.71         7.50  105            1  \n",
       "1       24.95      15.09         1.49   21            0  \n",
       "2       13.52       7.86         1.68   39            6  \n",
       "3       36.42      24.85         1.23   29            3  \n",
       "4      195.10     108.17        46.43   20            1  "
      ]
     },
     "execution_count": 21,
     "metadata": {},
     "output_type": "execute_result"
    }
   ],
   "source": [
    "import pandas as pd\n",
    "\n",
    "df = pd.read_csv('Resources/client_dataset.csv')\n",
    "df.head()"
   ]
  },
  {
   "cell_type": "code",
   "execution_count": 22,
   "id": "71b9bbd2",
   "metadata": {},
   "outputs": [
    {
     "name": "stdout",
     "output_type": "stream",
     "text": [
      "Index(['first', 'last', 'job', 'phone', 'email', 'client_id', 'order_id',\n",
      "       'order_date', 'order_week', 'order_year', 'item_id', 'category',\n",
      "       'subcategory', 'unit_price', 'unit_cost', 'unit_weight', 'qty',\n",
      "       'line_number'],\n",
      "      dtype='object')\n"
     ]
    }
   ],
   "source": [
    "# View the column names in the data\n",
    "df.columns\n",
    "print(df.columns)\n"
   ]
  },
  {
   "cell_type": "code",
   "execution_count": 23,
   "id": "bc0f4172",
   "metadata": {},
   "outputs": [
    {
     "name": "stdout",
     "output_type": "stream",
     "text": [
      "       client_id    order_id  order_week  order_year  unit_price  unit_cost  \\\n",
      "count   54639.00    54639.00    54639.00    54639.00    54639.00   54639.00   \n",
      "mean    54837.87  5470190.03       11.36     2022.99      136.27      99.45   \n",
      "std     25487.44  2599806.93        7.02        0.08      183.87     133.16   \n",
      "min     10033.00  1000886.00        1.00     2022.00        0.01       0.01   \n",
      "25%     33593.00  3196372.00        6.00     2023.00       20.80      14.84   \n",
      "50%     53305.00  5496966.00       11.00     2023.00       68.31      49.89   \n",
      "75%     78498.00  7733869.00       17.00     2023.00      173.16     125.57   \n",
      "max     99984.00  9998480.00       52.00     2023.00     1396.23     846.27   \n",
      "\n",
      "       unit_weight         qty  line_number  \n",
      "count     54639.00    54639.00     54639.00  \n",
      "mean          5.00      570.26         2.98  \n",
      "std           5.33    18795.52         2.44  \n",
      "min           0.00        0.00         0.00  \n",
      "25%           1.45       32.00         1.00  \n",
      "50%           3.24       68.00         3.00  \n",
      "75%           6.89      170.00         5.00  \n",
      "max          46.43  3958244.00         9.00  \n"
     ]
    }
   ],
   "source": [
    "# Use the describe function to gather some basic statistics\n",
    "df.describe()\n",
    "statistics = df.describe().round(2)\n",
    "print(statistics)\n"
   ]
  },
  {
   "cell_type": "code",
   "execution_count": 24,
   "id": "b24b53cc",
   "metadata": {},
   "outputs": [
    {
     "name": "stdout",
     "output_type": "stream",
     "text": [
      "<class 'pandas.core.frame.DataFrame'>\n",
      "RangeIndex: 54639 entries, 0 to 54638\n",
      "Data columns (total 18 columns):\n",
      " #   Column       Non-Null Count  Dtype  \n",
      "---  ------       --------------  -----  \n",
      " 0   first        54639 non-null  object \n",
      " 1   last         54639 non-null  object \n",
      " 2   job          54639 non-null  object \n",
      " 3   phone        54639 non-null  object \n",
      " 4   email        54639 non-null  object \n",
      " 5   client_id    54639 non-null  int64  \n",
      " 6   order_id     54639 non-null  int64  \n",
      " 7   order_date   54639 non-null  object \n",
      " 8   order_week   54639 non-null  int64  \n",
      " 9   order_year   54639 non-null  int64  \n",
      " 10  item_id      54639 non-null  object \n",
      " 11  category     54639 non-null  object \n",
      " 12  subcategory  54639 non-null  object \n",
      " 13  unit_price   54639 non-null  float64\n",
      " 14  unit_cost    54639 non-null  float64\n",
      " 15  unit_weight  54639 non-null  float64\n",
      " 16  qty          54639 non-null  int64  \n",
      " 17  line_number  54639 non-null  int64  \n",
      "dtypes: float64(3), int64(6), object(9)\n",
      "memory usage: 7.5+ MB\n"
     ]
    },
    {
     "data": {
      "text/plain": [
       "first          54639\n",
       "last           54639\n",
       "job            54639\n",
       "phone          54639\n",
       "email          54639\n",
       "client_id      54639\n",
       "order_id       54639\n",
       "order_date     54639\n",
       "order_week     54639\n",
       "order_year     54639\n",
       "item_id        54639\n",
       "category       54639\n",
       "subcategory    54639\n",
       "unit_price     54639\n",
       "unit_cost      54639\n",
       "unit_weight    54639\n",
       "qty            54639\n",
       "line_number    54639\n",
       "dtype: int64"
      ]
     },
     "execution_count": 24,
     "metadata": {},
     "output_type": "execute_result"
    }
   ],
   "source": [
    "# Use this space to do any additional research\n",
    "# and familiarize yourself with the data.\n",
    "df.info()\n",
    "df.count()\n"
   ]
  },
  {
   "cell_type": "code",
   "execution_count": 25,
   "id": "551cb358",
   "metadata": {},
   "outputs": [
    {
     "name": "stdout",
     "output_type": "stream",
     "text": [
      "category\n",
      "consumables    23538\n",
      "furniture      11915\n",
      "software        8400\n",
      "Name: count, dtype: int64\n"
     ]
    }
   ],
   "source": [
    "# What three item categories had the most entries?\n",
    "df['category']= df['category'].astype(str)\n",
    "top_three_categories = df['category'].value_counts().head(3)\n",
    "print(top_three_categories)"
   ]
  },
  {
   "cell_type": "code",
   "execution_count": 26,
   "id": "5f54e2cf",
   "metadata": {},
   "outputs": [
    {
     "name": "stdout",
     "output_type": "stream",
     "text": [
      "subcategory\n",
      "bathroom supplies    6424\n",
      "paper products       5874\n",
      "kitchen supplies     5746\n",
      "misc                 2891\n",
      "pens                 2603\n",
      "Name: count, dtype: int64\n",
      "bathroom supplies has the most subcategory entries within consumables\n"
     ]
    }
   ],
   "source": [
    "# For the category with the most entries, which subcategory had the most entries?\n",
    "most_common_category = df['category'].value_counts().idxmax()\n",
    "filtered_df = df[df['category'] == most_common_category]\n",
    "subcategory_counts = filtered_df['subcategory'].value_counts()\n",
    "print(subcategory_counts)\n",
    "top_subcategory = subcategory_counts.idxmax()\n",
    "print(top_subcategory, \"has the most subcategory entries within consumables\") "
   ]
  },
  {
   "cell_type": "code",
   "execution_count": 27,
   "id": "2db94379",
   "metadata": {},
   "outputs": [
    {
     "name": "stdout",
     "output_type": "stream",
     "text": [
      "client_id\n",
      "33615    220\n",
      "66037    211\n",
      "46820    209\n",
      "38378    207\n",
      "24741    207\n",
      "Name: count, dtype: int64\n"
     ]
    }
   ],
   "source": [
    "# Which five clients had the most entries in the data?\n",
    "top_five_clients = df['client_id'].value_counts()\n",
    "top_five_clients = top_five_clients.head(5)\n",
    "print(top_five_clients)"
   ]
  },
  {
   "cell_type": "code",
   "execution_count": 28,
   "id": "a6635601",
   "metadata": {},
   "outputs": [
    {
     "name": "stdout",
     "output_type": "stream",
     "text": [
      "Top 5 clients by quantity:\n",
      "[33615, 66037, 46820, 38378, 24741]\n"
     ]
    }
   ],
   "source": [
    "# Store the client ids of those top 5 clients in a list.\n",
    "top_five_clients_ids = top_five_clients.index.tolist() \n",
    "print(\"Top 5 clients by quantity:\") \n",
    "print(top_five_clients_ids)"
   ]
  },
  {
   "cell_type": "code",
   "execution_count": 29,
   "id": "c88b8a3e",
   "metadata": {},
   "outputs": [
    {
     "name": "stdout",
     "output_type": "stream",
     "text": [
      "64313\n"
     ]
    }
   ],
   "source": [
    "# How many total units (the qty column) did the client with the most entries order?\n",
    "client_id_qty = 33615\n",
    "client_id_qty_total = df.loc[df['client_id'] == client_id_qty, 'qty'].sum()\n",
    "print(client_id_qty_total)\n"
   ]
  },
  {
   "cell_type": "markdown",
   "id": "257fcd7d",
   "metadata": {},
   "source": [
    "## Part 2: Transform the Data\n",
    "Do we know that this client spent the more money than client 66037? If not, how would we find out? Transform the data using the steps below to prepare it for analysis."
   ]
  },
  {
   "cell_type": "code",
   "execution_count": 30,
   "id": "0c25c4a8",
   "metadata": {},
   "outputs": [
    {
     "name": "stdout",
     "output_type": "stream",
     "text": [
      "0    115164.00\n",
      "1       523.95\n",
      "2       527.28\n",
      "3      1056.18\n",
      "4      3902.00\n",
      "Name: subtotal, dtype: float64\n"
     ]
    }
   ],
   "source": [
    "# Create a column that calculates the subtotal for each line using the unit_price and the qty\n",
    "df['subtotal'] = df['unit_price'] * df['qty']\n",
    "print(df['subtotal'].head())"
   ]
  },
  {
   "cell_type": "code",
   "execution_count": 31,
   "id": "ac9dafc8",
   "metadata": {},
   "outputs": [
    {
     "name": "stdout",
     "output_type": "stream",
     "text": [
      "   unit_weight  shipping_price\n",
      "0         7.50            75.0\n",
      "1         1.49            14.9\n",
      "2         1.68            16.8\n",
      "3         1.23            12.3\n",
      "4        46.43           464.3\n"
     ]
    }
   ],
   "source": [
    "# Create a column for shipping price.\n",
    "# Assume a shipping price of $7 per pound for orders over 50 pounds and $10 per pound for items 50 pounds or under.\n",
    "def calculation_shipping_price(row):\n",
    "    item_weight = row['unit_weight']\n",
    "    if item_weight > 50:\n",
    "        shipping_price = item_weight * 7\n",
    "    else: \n",
    "        shipping_price = item_weight * 10\n",
    "    return shipping_price\n",
    "df['shipping_price'] = df.apply(calculation_shipping_price, axis=1) \n",
    "print(df[['unit_weight', 'shipping_price']].head())"
   ]
  },
  {
   "cell_type": "code",
   "execution_count": 32,
   "id": "77f42c67",
   "metadata": {},
   "outputs": [
    {
     "name": "stdout",
     "output_type": "stream",
     "text": [
      "0        125891.670000\n",
      "1           587.315375\n",
      "2           592.853400\n",
      "3          1166.176650\n",
      "4          4727.235000\n",
      "             ...      \n",
      "54634      3019.544325\n",
      "54635     10724.880025\n",
      "54636     34115.036250\n",
      "54637       361.492800\n",
      "54638      3411.066175\n",
      "Name: total_price, Length: 54639, dtype: float64\n"
     ]
    }
   ],
   "source": [
    "# Create a column for the total price using the subtotal and the shipping price along with a sales tax of 9.25%\n",
    "sales_tax_rate = 0.0925\n",
    "df['total_price'] = df['subtotal'] + df['shipping_price'] + df['subtotal'] * sales_tax_rate \n",
    "print(df['total_price'])\n",
    "\n"
   ]
  },
  {
   "cell_type": "code",
   "execution_count": 33,
   "id": "c82ad275",
   "metadata": {},
   "outputs": [
    {
     "name": "stdout",
     "output_type": "stream",
     "text": [
      "   unit_cost  qty  shipping_price  line_cost\n",
      "0     762.71  105            75.0   80159.55\n",
      "1      15.09   21            14.9     331.79\n",
      "2       7.86   39            16.8     323.34\n",
      "3      24.85   29            12.3     732.95\n",
      "4     108.17   20           464.3    2627.70\n"
     ]
    }
   ],
   "source": [
    "# Create a column for the cost of each line using unit cost, qty, and\n",
    "# shipping price (assume the shipping cost is exactly what is charged to the client).\n",
    "df['line_cost'] = (df['unit_cost'] * df['qty']) + df['shipping_price'] \n",
    "print(df[['unit_cost', 'qty', 'shipping_price', 'line_cost']].head())\n"
   ]
  },
  {
   "cell_type": "code",
   "execution_count": 34,
   "id": "e2389018",
   "metadata": {},
   "outputs": [
    {
     "name": "stdout",
     "output_type": "stream",
     "text": [
      "     total_price  line_cost   line_profit\n",
      "0  125891.670000   80159.55  45732.120000\n",
      "1     587.315375     331.79    255.525375\n",
      "2     592.853400     323.34    269.513400\n",
      "3    1166.176650     732.95    433.226650\n",
      "4    4727.235000    2627.70   2099.535000\n"
     ]
    }
   ],
   "source": [
    "# Create a column for the profit of each line using line cost and line price\n",
    "df['line_profit'] = df['total_price'] - df['line_cost'] \n",
    "print(df[['total_price', 'line_cost', 'line_profit']].head())\n"
   ]
  },
  {
   "cell_type": "markdown",
   "id": "ef6f62b1",
   "metadata": {},
   "source": [
    "## Part 3: Confirm your work\n",
    "You have email receipts showing that the total prices for 3 orders. Confirm that your calculations match the receipts. Remember, each order has multiple lines.\n",
    "\n",
    "Order ID 2742071 had a total price of \\$152,811.89\n",
    "\n",
    "Order ID 2173913 had a total price of \\$162,388.71\n",
    "\n",
    "Order ID 6128929 had a total price of \\$923,441.25\n"
   ]
  },
  {
   "cell_type": "code",
   "execution_count": 35,
   "id": "c0e5d68e",
   "metadata": {},
   "outputs": [
    {
     "name": "stdout",
     "output_type": "stream",
     "text": [
      "Total Price for Order ID 2742071: 139825.57\n",
      "Total Price for Order ID 2173913: 119815.13\n",
      "Total Price for Order ID 6128929: 752707.06\n"
     ]
    }
   ],
   "source": [
    "# Check your work using the totals above\n",
    "order1_total_price = df[df['order_id'] == 2742071]['total_price'].sum().round(2)\n",
    "order2_total_price = df[df['order_id'] == 2173913]['total_price'].sum().round(2)\n",
    "order3_total_price = df[df['order_id'] == 6128929]['total_price'].sum().round(2)\n",
    "print(\"Total Price for Order ID 2742071:\", order1_total_price)\n",
    "print(\"Total Price for Order ID 2173913:\", order2_total_price) \n",
    "print(\"Total Price for Order ID 6128929:\", order3_total_price)"
   ]
  },
  {
   "cell_type": "markdown",
   "id": "b94d58ab",
   "metadata": {},
   "source": [
    "## Part 4: Summarize and Analyze\n",
    "Use the new columns with confirmed values to find the following information."
   ]
  },
  {
   "cell_type": "code",
   "execution_count": 36,
   "id": "7c005f34",
   "metadata": {},
   "outputs": [
    {
     "name": "stdout",
     "output_type": "stream",
     "text": [
      "Total spending for the top 5 clients:\n",
      "client_id\n",
      "24741    7.667761e+07\n",
      "33615    6.391752e+06\n",
      "38378    9.171766e+06\n",
      "46820    8.005306e+06\n",
      "66037    8.745329e+06\n",
      "Name: total_price, dtype: float64\n"
     ]
    }
   ],
   "source": [
    "# How much did each of the top 5 clients by quantity spend? Check your work from Part 1 for client ids.\n",
    "top_five_clients_spending = df[df['client_id'].isin(top_five_clients_ids)].groupby('client_id')['total_price'].sum()\n",
    "print(\"Total spending for the top 5 clients:\")\n",
    "print(top_five_clients_spending)\n"
   ]
  },
  {
   "cell_type": "code",
   "execution_count": 37,
   "id": "81b6e4d2",
   "metadata": {},
   "outputs": [
    {
     "name": "stdout",
     "output_type": "stream",
     "text": [
      "Summary DataFrame for Top 5 Clients:\n",
      "           total_units_purchased  total_shipping_price  total_revenue  \\\n",
      "client_id                                                               \n",
      "24741                     239862                9365.6   7.667761e+07   \n",
      "33615                      64313               12609.4   6.391752e+06   \n",
      "38378                      73667               11895.0   9.171766e+06   \n",
      "46820                      75768               11094.8   8.005306e+06   \n",
      "66037                      43018               10017.3   8.745329e+06   \n",
      "\n",
      "           total_profit  \n",
      "client_id                \n",
      "24741      3.610580e+07  \n",
      "33615      2.032814e+06  \n",
      "38378      2.954605e+06  \n",
      "46820      2.588469e+06  \n",
      "66037      3.125980e+06  \n"
     ]
    }
   ],
   "source": [
    "# Create a summary DataFrame showing the totals for the for the top 5 clients with the following information:\n",
    "# total units purchased, total shipping price, total revenue, and total profit. \n",
    "top_five_totals = df[df['client_id'].isin(top_five_clients_ids)].groupby('client_id').agg( \n",
    "    total_units_purchased=('qty', 'sum'), \n",
    "    total_shipping_price=('shipping_price', 'sum'), \n",
    "    total_revenue=('total_price', 'sum'), \n",
    "    total_profit=('line_profit', 'sum') \n",
    "    )\n",
    "print(\"Summary DataFrame for Top 5 Clients:\") \n",
    "print(top_five_totals)\n"
   ]
  },
  {
   "cell_type": "code",
   "execution_count": 38,
   "id": "7be02867",
   "metadata": {},
   "outputs": [
    {
     "name": "stdout",
     "output_type": "stream",
     "text": [
      "           Total Units Purchased (Millions) Total Shipping Price (Millions)  \\\n",
      "client_id                                                                     \n",
      "24741                                239862                       $9,365.60   \n",
      "33615                                 64313                      $12,609.40   \n",
      "38378                                 73667                      $11,895.00   \n",
      "46820                                 75768                      $11,094.80   \n",
      "66037                                 43018                      $10,017.30   \n",
      "\n",
      "          Total Revenue (Millions) Total Profit (Millions)  \n",
      "client_id                                                   \n",
      "24741                      $76.68M                 $36.11M  \n",
      "33615                       $6.39M                  $2.03M  \n",
      "38378                       $9.17M                  $2.95M  \n",
      "46820                       $8.01M                  $2.59M  \n",
      "66037                       $8.75M                  $3.13M  \n"
     ]
    }
   ],
   "source": [
    "# Format the data and rename the columns to names suitable for presentation.\n",
    "top_five_clients_totals_data = pd.DataFrame(top_five_totals)\n",
    "\n",
    "# Define the money columns. \n",
    "money_columns = ('total_shipping_price', 'total_revenue', 'total_profit')\n",
    "\n",
    "# Define a function that converts a dollar amount to millions.\n",
    "def convert_to_millions(amount):\n",
    "    if abs(amount) >= 1_000_000:\n",
    "        return '${:,.2f}M'.format(amount / 1_000_000)\n",
    "    else:\n",
    "        return '${:,.2f}'.format(amount)\n",
    "\n",
    "# Apply the currency_format_millions function to only the money columns. \n",
    "for col in money_columns:\n",
    "    top_five_clients_totals_data[col] = top_five_clients_totals_data[col].apply(convert_to_millions)\n",
    "\n",
    "# Rename the columns to reflect the change in the money format. \n",
    "renamed_columns = top_five_clients_totals_data.rename(columns={\n",
    "    'total_units_purchased': 'Total Units Purchased (Millions)',\n",
    "    'total_shipping_price': 'Total Shipping Price (Millions)',\n",
    "    'total_revenue': 'Total Revenue (Millions)',\n",
    "    'total_profit': 'Total Profit (Millions)'})\n",
    "print(renamed_columns)"
   ]
  },
  {
   "cell_type": "code",
   "execution_count": 39,
   "id": "8ead0986",
   "metadata": {},
   "outputs": [],
   "source": [
    "# Sort the updated data by \"Total Profit (millions)\" form highest to lowest and assign the sort to a new DatFrame.\n",
    "sorted_data = renamed_columns.sort_values(by='Total Profit (Millions)', ascending=False)\n",
    "\n"
   ]
  },
  {
   "cell_type": "code",
   "execution_count": 40,
   "id": "5e852c1f",
   "metadata": {},
   "outputs": [
    {
     "name": "stdout",
     "output_type": "stream",
     "text": [
      "           Total Units Purchased (Millions) Total Shipping Price (Millions)  \\\n",
      "client_id                                                                     \n",
      "24741                                239862                       $9,365.60   \n",
      "66037                                 43018                      $10,017.30   \n",
      "38378                                 73667                      $11,895.00   \n",
      "46820                                 75768                      $11,094.80   \n",
      "33615                                 64313                      $12,609.40   \n",
      "\n",
      "          Total Revenue (Millions) Total Profit (Millions)  \n",
      "client_id                                                   \n",
      "24741                      $76.68M                 $36.11M  \n",
      "66037                       $8.75M                  $3.13M  \n",
      "38378                       $9.17M                  $2.95M  \n",
      "46820                       $8.01M                  $2.59M  \n",
      "33615                       $6.39M                  $2.03M  \n"
     ]
    }
   ],
   "source": [
    "# Print the sorted DataFrame\n",
    "print(sorted_data)"
   ]
  }
 ],
 "metadata": {
  "kernelspec": {
   "display_name": "Python 3 (ipykernel)",
   "language": "python",
   "name": "python3"
  },
  "language_info": {
   "codemirror_mode": {
    "name": "ipython",
    "version": 3
   },
   "file_extension": ".py",
   "mimetype": "text/x-python",
   "name": "python",
   "nbconvert_exporter": "python",
   "pygments_lexer": "ipython3",
   "version": "3.10.14"
  }
 },
 "nbformat": 4,
 "nbformat_minor": 5
}
